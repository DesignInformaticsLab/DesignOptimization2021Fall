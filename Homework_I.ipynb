{
  "nbformat": 4,
  "nbformat_minor": 0,
  "metadata": {
    "colab": {
      "name": "Homework_I.ipynb",
      "provenance": [],
      "authorship_tag": "ABX9TyPF9ajocxaCncGja00WvipC",
      "include_colab_link": true
    },
    "kernelspec": {
      "name": "python3",
      "display_name": "Python 3"
    },
    "language_info": {
      "name": "python"
    }
  },
  "cells": [
    {
      "cell_type": "markdown",
      "metadata": {
        "id": "view-in-github",
        "colab_type": "text"
      },
      "source": [
        "<a href=\"https://colab.research.google.com/github/josephgalloway321/DesignOptimization2021Fall/blob/main/Homework_I.ipynb\" target=\"_parent\"><img src=\"https://colab.research.google.com/assets/colab-badge.svg\" alt=\"Open In Colab\"/></a>"
      ]
    },
    {
      "cell_type": "markdown",
      "metadata": {
        "id": "U-RU07ng33Bx"
      },
      "source": [
        "Solve the following problem using Python SciPy.optimize.\n",
        "Please attach your code and results.\n",
        "Specify your initial guesses of the solution.\n",
        "If you change your initial guess, do you find different solutions?\n",
        "(100 points)"
      ]
    },
    {
      "cell_type": "code",
      "metadata": {
        "id": "N70ZNlmg4FcB"
      },
      "source": [
        "from scipy.optimize import minimize"
      ],
      "execution_count": 6,
      "outputs": []
    },
    {
      "cell_type": "markdown",
      "metadata": {
        "id": "znYxTv6Y4K_1"
      },
      "source": [
        "The following is the function I'm trying to minimize:"
      ]
    },
    {
      "cell_type": "code",
      "metadata": {
        "id": "AOx-_SQp4OXc"
      },
      "source": [
        "def fun(x): return (x[0] - x[2])**2 + \\\n",
        "        (x[1] + x[2] - 2)**2 + (x[3] - 1)**2 + (x[4] - 1)**2"
      ],
      "execution_count": 7,
      "outputs": []
    },
    {
      "cell_type": "markdown",
      "metadata": {
        "id": "O6UIDrFA4T7w"
      },
      "source": [
        "The following are the four constriants\n",
        "x1 + 3*x2 = 0\n",
        "x3 + x4 - 2*x5 = 0\n",
        "x2 - x5 = 0\n",
        "-10 <= x_i <= 10 ~i = 1, ..., 5"
      ]
    },
    {
      "cell_type": "code",
      "metadata": {
        "colab": {
          "base_uri": "https://localhost:8080/"
        },
        "id": "dutWGlyV4U2w",
        "outputId": "b8bdbdf4-3d0b-437a-a60d-8fd2a6b2865b"
      },
      "source": [
        "cons = ({'type': 'eq', 'fun': lambda x: x[0] + 3*x[1]},\n",
        "        {'type': 'eq', 'fun': lambda x: x[2] + x[3] - 2*x[4]},\n",
        "        {'type': 'eq', 'fun': lambda x: x[1] - x[4]})\n",
        "bnds = ((-10, 10), (-10, 10), (-10, 10), (-10, 10), (-10, 10))\n",
        "res = minimize(fun, (-9, 0, 9, 2, -7), method='SLSQP',\n",
        "               bounds=bnds, constraints=cons)\n",
        "print(res.fun)"
      ],
      "execution_count": 8,
      "outputs": [
        {
          "output_type": "stream",
          "text": [
            "4.292682926867061\n"
          ],
          "name": "stdout"
        }
      ]
    }
  ]
}