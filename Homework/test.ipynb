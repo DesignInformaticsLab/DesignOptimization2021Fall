{
 "cells": [
  {
   "cell_type": "markdown",
   "source": [
    "**Problem 5** \\\n",
    "(i) Formulation of optimization problem:\n",
    "$ \\underset{p_j}{\\operatorname{min}} \\sum_{k = 1}^{n} (I_k - I_t)^2 $ \\\n",
    "st $ 0 \\le p_j \\le p_{max}$ \\\n",
    "(ii) A formulation is convex if the objective is a convex function and the constraints have a feasible set that is convex. \n",
    "Consider the function: $ f(p) = (a_k^Tp - I)^2 $ \\\n",
    "$ \\nabla f = 2a_ka_k^Tp - 2Ia_k $ \\\n",
    "$ \\nabla ^2 f = 2a_ka_k^T $ \\\n",
    "Lemma: If $ d^THd \\ge 0 \\text{ for all d} \\ne 0 \\text{ then H is positive semi definite.} $ \\\n",
    "In this case, applying the lemma gives us  $ d^THd = 2d^Ta_ka_k^Td $, which is always non negative. \n",
    "Moreover, the summation of k convex functions is also convex. Therefore the objective is convex. The feasible set from the constraints is convex because they form a segmented space that is a hypercube. \\\n",
    "(iii) If we require the power output of any of the n lamps to be less than p*, the modified optimization problem is: \\\n",
    "$ \\underset{p_j}{\\operatorname{min}} \\sum_{k = 1}^{n} (I_k - I_t)^2 $ \\\n",
    "st $ 0 \\le p_j \\le p_{max}$ , \\\n",
    "$ \\sum_{j = 1}^{k} p_j < p^*,  k = {1,...,n}$ \\\n",
    "The second constraint can be further split into n separate constraints. Unique solutions are possible if all the constraints are convex sets. Consider the constraint $ \\sum_{j = 1}^{l} p_j \\lt p^* , l \\epsilon k $. The summation produces an l-dimensional half space of a hyperplane, which is a convex set. Therefore the problem has a unique solution. \\\n",
    "(iv) If only half the lamps can be on at the same time, then the problem has a combinatorial constraint, where out of n lamps, any n/2 of them can be switched on. The constraint to be added to the formulation is:\n",
    "$ \\underset{p_j}{\\operatorname{min}} \\sum_{k = 1}^{n} (I_k - I_t)^2 $ \\\n",
    "st $ 0 \\le p_j \\le p_{max}$ , \\\n",
    "$ ||x||_0 \\le \\frac{n}{2} $ \\\n",
    "The l-0 norm is not convex, therefore the problem does not have a unique solution.\n"
   ],
   "metadata": {}
  }
 ],
 "metadata": {
  "orig_nbformat": 4,
  "language_info": {
   "name": "python"
  }
 },
 "nbformat": 4,
 "nbformat_minor": 2
}