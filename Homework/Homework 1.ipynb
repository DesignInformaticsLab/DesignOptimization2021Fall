{
 "cells": [
  {
   "cell_type": "markdown",
   "source": [
    "Solve the following problem using [Python SciPy.optimize][]. Please attach your code and\n",
    "results. Specify your initial guesses of the solution. If you change\n",
    "your initial guess, do you find different solutions? (**100 points**)\n",
    "\n",
    "$$\n",
    "\\begin{aligned}\n",
    "&\\text{minimize:} && (x_1-x_2)^2 + (x_2+x_3-2)^2 + (x_4-1)^2+(x_5-1)^2 \\\\\\\\\n",
    "&\\text{subject to:} && x_1 + 3x_2 = 0 \\\\\\\\\n",
    "&&& x_3 + x_4 - 2x_5 = 0 \\\\\\\\\n",
    "&&& x_2 - x_5 = 0 \\\\\\\\\n",
    "&&& -10 \\leq x_i \\leq 10, \\~i=1,\\ldots,5\n",
    "\\end{aligned}$$\n",
    "\n",
    "**Note**:\n",
    "\n",
    "1.  Please learn how to use **break points** to debug. **I will not\n",
    "    address your programming questions if you have not learned how to\n",
    "    debug your code.**\n",
    "\n",
    "2.  I recommend [PyCharm][] as the IDE. If you are new to Python, you can also start with [Google Colab][] without installing anything.\n",
    "    \n",
    "3.  If you are on Windows, the [Anaconda][] version of Python 3 is highly recommended.\n",
    "\n",
    "\n",
    "**Here are the steps to push a homework submission**:\n",
    "\n",
    "1.  Clone the [course repo][]: First click on **Code** to get the\n",
    " Git address (e.g., the HTTPS address). Then use your IDE to clone (download) the repo using this address. \n",
    " [PyCharm tutorial][] on using Git.\n",
    "\n",
    "2.  You will find the homework in the **Homework** folder.\n",
    "\n",
    "3.  For analytical problems (e.g., proofs and calculations), please use [Markdown][] to type up your answers. \n",
    "[Markdown Math][]. For Latex users, you can convert tex to markdown using [Pandoc][]. \n",
    "\n",
    "4. For coding problems, please submit a [Jupyter Notebook][] file with your code and final results. \n",
    "You can also add a URL to your Jupyter or Colab Notebook in README.md if you use online notebooks.\n",
    "\n",
    "5. For each homework, please submit a single notebook file (or link) that combines the markdown solutions, \n",
    "the codes, and the computation results, and name the file according to the homework.  \n",
    "\n",
    "6. **IMPORTANT** Please push (upload) the notebook file every time you work on the \n",
    "homework and add comments when you push, e.g., \"finished problem 1, still debugging problem 2\". This way I \n",
    "know you worked on your own.\n",
    " \n",
    "\n",
    "[Python SciPy.optimize]: https://docs.scipy.org/doc/scipy/reference/tutorial/optimize.html#\n",
    "[PyCharm]: https://www.jetbrains.com/pycharm/promo/?utm_source=bing&utm_medium=cpc&utm_campaign=AMER_en_US-PST%2BMST_PyCharm_Branded&utm_term=pycharm&utm_content=pycharm\n",
    "[Google Colab]: https://colab.research.google.com\n",
    "[Anaconda]: https://anaconda.org/anaconda/python\n",
    "[course repo]: https://github.com/DesignInformaticsLab/DesignOptimization2021Fall\n",
    "[PyCharm tutorial]: https://www.jetbrains.com/help/pycharm/set-up-a-git-repository.html#clone-repo\n",
    "[Pandoc]: https://pandoc.org/try/\n",
    "[Jupyter Notebook]: https://jupyter.org/try\n",
    "[Markdown]: https://guides.github.com/features/mastering-markdown/\n",
    "[Markdown Math]: http://luvxuan.top/posts/Markdown-math/"
<<<<<<< HEAD
   ],
   "metadata": {
    "collapsed": true,
    "pycharm": {
     "name": "#%% md\n"
    }
   }
  },
  {
   "cell_type": "code",
   "execution_count": 1,
   "source": [
    "import scipy.optimize as opt\n",
    "fun = lambda x: (x[0] - x[1])**2 + (x[1] + x[2] - 2)**2 + (x[3] - 1)**2 + (x[4] - 1)**2\n",
    "cons = (\n",
    "    {'type': 'eq', 'fun': lambda x: x[0] + 3*x[1]},\n",
    "    {'type': 'eq', 'fun': lambda x: x[2] + x[3] - 2*x[4]},\n",
    "    {'type': 'eq', 'fun': lambda x: x[1] - x[4]}\n",
    ")\n",
    "bnds = ((-10,10), (-10,10), (-10,10), (-10,10), (-10,10))\n",
    "\n",
    "res = opt.minimize(fun, (1,1,1,1,1), method = 'SLSQP', bounds = bnds, constraints = cons)\n",
    "res\n"
   ],
   "outputs": [
    {
     "output_type": "execute_result",
     "data": {
      "text/plain": [
       "     fun: 4.09302326452976\n",
       "     jac: array([-2.04664832, -0.18578869, -2.23243701, -2.23257673, -1.48833793])\n",
       " message: 'Optimization terminated successfully'\n",
       "    nfev: 38\n",
=======
   ]
  },
  {
   "cell_type": "code",
   "execution_count": 17,
   "metadata": {
    "pycharm": {
     "name": "#%%\n"
    }
   },
   "outputs": [],
   "source": [
    "from scipy.optimize import minimize\n",
    "\n",
    "fun = lambda x: (x[0] - x[2])**2 + (x[1] + x[2] - 2)**2 + (x[3] - 1)**2 + (x[4] -1)**2\n",
    "cons = ({'type': 'eq', 'fun': lambda x:  x[0] + 3*x[1]},\n",
    "        {'type': 'eq', 'fun': lambda x: x[2] + x[3] - 2*x[4]},\n",
    "        {'type': 'eq', 'fun': lambda x: -x[0] + 2 * x[1] + 2})\n",
    "bnds = ((-10, 10), (-10, 10), (-10, 10), (-10, 10), (-10, 10))\n",
    "res = minimize(fun, (1,3,4,5,6), method='SLSQP', bounds=bnds,\n",
    "               constraints=cons)\n",
    "                                                                    "
   ]
  },
  {
   "cell_type": "code",
   "execution_count": 18,
   "metadata": {},
   "outputs": [
    {
     "data": {
      "text/plain": [
       "     fun: 0.8363636363649362\n",
       "     jac: array([-1.05454643, -1.34545355, -0.29090709, -0.29091084,  0.58181781])\n",
       " message: 'Optimization terminated successfully'\n",
       "    nfev: 37\n",
>>>>>>> 8f90ced4bec79abb8b5d9fde08e3e33db602bff0
       "     nit: 6\n",
       "    njev: 6\n",
       "  status: 0\n",
       " success: True\n",
<<<<<<< HEAD
       "       x: array([-0.76749312,  0.25583104,  0.62795044, -0.11628835,  0.25583104])"
      ]
     },
     "metadata": {},
     "execution_count": 1
    }
   ],
   "metadata": {}
  },
  {
   "cell_type": "code",
   "execution_count": 2,
   "source": [
    "# Changing the initial guess\n",
    "x_init = (2,3,1,4,5)\n",
    "fun = lambda x: (x[0] - x[1])**2 + (x[1] + x[2] - 2)**2 + (x[3] - 1)**2 + (x[4] - 1)**2\n",
    "cons = (\n",
    "    {'type': 'eq', 'fun': lambda x: x[0] + 3*x[1]},\n",
    "    {'type': 'eq', 'fun': lambda x: x[2] + x[3] - 2*x[4]},\n",
    "    {'type': 'eq', 'fun': lambda x: x[1] - x[4]}\n",
    ")\n",
    "bnds = ((-10,10), (-10,10), (-10,10), (-10,10), (-10,10))\n",
    "\n",
    "res = opt.minimize(fun,x0 = x_init, method = 'SLSQP', bounds = bnds, constraints = cons)\n",
    "res"
   ],
   "outputs": [
    {
     "output_type": "execute_result",
     "data": {
      "text/plain": [
       "     fun: 4.093023288479049\n",
       "     jac: array([-2.04646897, -0.18635827, -2.23282731, -2.2323209 , -1.4883827 ])\n",
       " message: 'Optimization terminated successfully'\n",
       "    nfev: 43\n",
       "     nit: 7\n",
       "    njev: 7\n",
       "  status: 0\n",
       " success: True\n",
       "       x: array([-0.76742588,  0.25580863,  0.62777771, -0.11616046,  0.25580863])"
      ]
     },
     "metadata": {},
     "execution_count": 2
    }
   ],
   "metadata": {}
  },
  {
   "cell_type": "markdown",
   "source": [
    "Changing the initial guess does not change the minimum"
   ],
   "metadata": {}
=======
       "       x: array([ 1.2       , -0.4       ,  1.72727322,  0.85454457,  1.2909089 ])"
      ]
     },
     "execution_count": 18,
     "metadata": {},
     "output_type": "execute_result"
    }
   ],
   "source": [
    "res"
   ]
<<<<<<< HEAD
  },
  {
   "cell_type": "code",
   "execution_count": null,
   "metadata": {},
   "outputs": [],
   "source": []
>>>>>>> 8f90ced4bec79abb8b5d9fde08e3e33db602bff0
=======
>>>>>>> 5690077459f148361cc6fc1d86ad868d764ff9b2
  }
 ],
 "metadata": {
  "kernelspec": {
   "name": "python3",
   "display_name": "Python 3.7.3 64-bit ('base': conda)"
  },
  "language_info": {
   "codemirror_mode": {
    "name": "ipython",
    "version": 3
   },
   "file_extension": ".py",
   "mimetype": "text/x-python",
   "name": "python",
   "nbconvert_exporter": "python",
   "pygments_lexer": "ipython3",
   "version": "3.7.3"
  },
  "pycharm": {
   "stem_cell": {
    "cell_type": "raw",
    "metadata": {
     "collapsed": false
    },
    "source": []
   }
  },
  "interpreter": {
   "hash": "283a19fe1c80cc8d674e9be3676f3725f85ae6255e6112c9eba9160b54893d27"
  }
 },
 "nbformat": 4,
 "nbformat_minor": 1
}
