{
 "cells": [
  {
   "cell_type": "markdown",
   "metadata": {
    "collapsed": true,
    "pycharm": {
     "name": "#%% md\n"
    }
   },
   "source": [
    "Solve the following problem using [Python SciPy.optimize][]. Please attach your code and\n",
    "results. Specify your initial guesses of the solution. If you change\n",
    "your initial guess, do you find different solutions? (**100 points**)\n",
    "\n",
    "$$\n",
    "\\begin{aligned}\n",
    "&\\text{minimize:} && (x_1-x_2)^2 + (x_2+x_3-2)^2 + (x_4-1)^2+(x_5-1)^2 \\\\\\\\\n",
    "&\\text{subject to:} && x_1 + 3x_2 = 0 \\\\\\\\\n",
    "&&& x_3 + x_4 - 2x_5 = 0 \\\\\\\\\n",
    "&&& x_2 - x_5 = 0 \\\\\\\\\n",
    "&&& -10 \\leq x_i \\leq 10, ~i=1,\\ldots,5\n",
    "\\end{aligned}$$\n",
    "\n",
    "**Note**:\n",
    "\n",
    "1.  Please learn how to use **break points** to debug. **I will not\n",
    "    address your programming questions if you have not learned how to\n",
    "    debug your code.**\n",
    "\n",
    "2.  I recommend [PyCharm][] as the IDE. If you are new to Python, you can also start with [Google Colab][] without installing anything.\n",
    "    \n",
    "3.  If you are on Windows, the [Anaconda][] version of Python 3 is highly recommended.\n",
    "\n",
    "\n",
    "**Here are the steps to push a homework submission**:\n",
    "\n",
    "1.  Clone the [course repo][]: First click on **Code** to get the\n",
    " Git address (e.g., the HTTPS address). Then use your IDE to clone (download) the repo using this address. \n",
    " [PyCharm tutorial][] on using Git.\n",
    "\n",
    "2.  You will find the homework in the **Homework** folder.\n",
    "\n",
    "3.  For analytical problems (e.g., proofs and calculations), please use [Markdown][] to type up your answers. \n",
    "[Markdown Math][]. For Latex users, you can convert tex to markdown using [Pandoc][]. \n",
    "\n",
    "4. For coding problems, please submit a [Jupyter Notebook][] file with your code and final results. \n",
    "You can also add a URL to your Jupyter or Colab Notebook in README.md if you use online notebooks.\n",
    "\n",
    "5. For each homework, please submit a single notebook file (or link) that combines the markdown solutions, \n",
    "the codes, and the computation results, and name the file according to the homework.  \n",
    "\n",
    "6. **IMPORTANT** Please push (upload) the notebook file every time you work on the \n",
    "homework and add comments when you push, e.g., \"finished problem 1, still debugging problem 2\". This way I \n",
    "know you worked on your own.\n",
    " \n",
    "\n",
    "[Python SciPy.optimize]: https://docs.scipy.org/doc/scipy/reference/tutorial/optimize.html#\n",
    "[PyCharm]: https://www.jetbrains.com/pycharm/promo/?utm_source=bing&utm_medium=cpc&utm_campaign=AMER_en_US-PST%2BMST_PyCharm_Branded&utm_term=pycharm&utm_content=pycharm\n",
    "[Google Colab]: https://colab.research.google.com\n",
    "[Anaconda]: https://anaconda.org/anaconda/python\n",
    "[course repo]: https://github.com/DesignInformaticsLab/DesignOptimization2021Fall\n",
    "[PyCharm tutorial]: https://www.jetbrains.com/help/pycharm/set-up-a-git-repository.html#clone-repo\n",
    "[Pandoc]: https://pandoc.org/try/\n",
    "[Jupyter Notebook]: https://jupyter.org/try\n",
    "[Markdown]: https://guides.github.com/features/mastering-markdown/\n",
    "[Markdown Math]: http://luvxuan.top/posts/Markdown-math/"
   ]
  },
  {
   "cell_type": "code",
   "execution_count": 1,
   "metadata": {
    "pycharm": {
     "name": "#%%\n"
    }
   },
   "outputs": [],
   "source": [
    "from scipy.optimize import minimize\n",
    "# function definition\n",
    "fun = lambda x: (x[0] - x[1])**2 + (x[1] + x[2] - 2)**2 + (x[3] - 1)**2 + (x[4] -1)**2\n",
    "# constraints\n",
    "cons = ({'type': 'eq', 'fun': lambda x:  x[0] + 3*x[1]},\n",
    "        {'type': 'eq', 'fun': lambda x: x[2] + x[3] - 2*x[4]},\n",
    "        {'type': 'eq', 'fun': lambda x: x[1] - x[4]})\n",
    "# boundaries\n",
    "bnds = ((-10, 10), (-10, 10), (-10, 10), (-10, 10), (-10, 10))"
   ]
  },
  {
   "cell_type": "code",
   "execution_count": 2,
   "metadata": {
    "pycharm": {
     "name": "#%%\n"
    }
   },
   "outputs": [
    {
     "data": {
      "text/plain": [
       "     fun: 4.093023261962584\n",
       "     jac: array([-2.04641944, -0.1860919 , -2.2325114 , -2.23267382, -1.48839509])\n",
       " message: 'Optimization terminated successfully.'\n",
       "    nfev: 50\n",
       "     nit: 7\n",
       "    njev: 7\n",
       "  status: 0\n",
       " success: True\n",
       "       x: array([-0.76740731,  0.25580244,  0.62794182, -0.11633695,  0.25580244])"
      ]
     },
     "execution_count": 2,
     "metadata": {},
     "output_type": "execute_result"
    }
   ],
   "source": [
    "# Result 1\n",
    "# Initial guess (5,5,5,5,5)\n",
    "res1 = minimize(fun, (5,5,5,5,5), method='SLSQP', bounds=bnds,\n",
    "               constraints=cons) \n",
    "res1"
   ]
  },
  {
   "cell_type": "code",
   "execution_count": 3,
   "metadata": {},
   "outputs": [
    {
     "data": {
      "text/plain": [
       "     fun: 4.093023255813954\n",
       "     jac: array([-2.04651159, -0.18604648, -2.23255813, -2.23255813, -1.48837209])\n",
       " message: 'Optimization terminated successfully.'\n",
       "    nfev: 23\n",
       "     nit: 3\n",
       "    njev: 3\n",
       "  status: 0\n",
       " success: True\n",
       "       x: array([-0.76744186,  0.25581395,  0.62790698, -0.11627907,  0.25581395])"
      ]
     },
     "execution_count": 3,
     "metadata": {},
     "output_type": "execute_result"
    }
   ],
   "source": [
    "# Result 2\n",
    "# Initial guess (0,0,0,0,0)\n",
    "res2 = minimize(fun, (0,0,0,0,0), method='SLSQP', bounds=bnds,\n",
    "               constraints=cons) \n",
    "res2"
   ]
  },
  {
   "cell_type": "code",
   "execution_count": 4,
   "metadata": {},
   "outputs": [
    {
     "data": {
      "text/plain": [
       "     fun: 4.093023258012866\n",
       "     jac: array([-2.04654068, -0.18606836, -2.23260909, -2.23248529, -1.48836476])\n",
       " message: 'Optimization terminated successfully.'\n",
       "    nfev: 56\n",
       "     nit: 8\n",
       "    njev: 8\n",
       "  status: 0\n",
       " success: True\n",
       "       x: array([-0.76745277,  0.25581759,  0.62787786, -0.11624267,  0.25581759])"
      ]
     },
     "execution_count": 4,
     "metadata": {},
     "output_type": "execute_result"
    }
   ],
   "source": [
    "# Result 3\n",
    "# Initial guess (10,10,10,10,10)\n",
    "res3 = minimize(fun, (10,10,10,10,10), method='SLSQP', bounds=bnds,\n",
    "               constraints=cons) \n",
    "res3"
   ]
  },
  {
   "cell_type": "markdown",
   "metadata": {},
   "source": [
    "\n",
    "\n",
    "**Final solution**: x1~x5 = [-0.76745277,  0.25581759,  0.62787786, -0.11624267,  0.25581759], minimized value = 4.093023258012866\n",
    "\n",
    "**Answer**:If changing the inital guess, the final solution is still the same. However, the iteration number is different."
   ]
  },
  {
   "cell_type": "code",
   "execution_count": null,
   "metadata": {},
   "outputs": [],
   "source": []
  }
 ],
 "metadata": {
  "kernelspec": {
   "display_name": "Python 3",
   "language": "python",
   "name": "python3"
  },
  "language_info": {
   "codemirror_mode": {
    "name": "ipython",
    "version": 3
   },
   "file_extension": ".py",
   "mimetype": "text/x-python",
   "name": "python",
   "nbconvert_exporter": "python",
   "pygments_lexer": "ipython3",
   "version": "3.7.6"
  },
  "pycharm": {
   "stem_cell": {
    "cell_type": "raw",
    "metadata": {
     "collapsed": false
    },
    "source": []
   }
  }
 },
 "nbformat": 4,
 "nbformat_minor": 1
}