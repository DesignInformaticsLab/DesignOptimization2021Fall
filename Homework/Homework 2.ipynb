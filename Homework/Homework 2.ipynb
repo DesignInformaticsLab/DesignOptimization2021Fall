{
 "cells": [
  {
   "cell_type": "markdown",
   "source": [
    "# Theory/Computation Problems\n",
    "\n",
    "### Problem 1 (20 points) \n",
    "Show that the stationary point (zero gradient) of the function\n",
    "$$\n",
    "\\begin{aligned}\n",
    "    f=2x_{1}^{2} - 4x_1 x_2+ 1.5x^{2}_{2}+ x_2\n",
    "\\end{aligned}\n",
    "$$\n",
    "is a saddle (with indefinite Hessian). Find the directions of downslopes away from the saddle. Hint: Use Taylor's expansion at the saddle point. Find directions that reduce $f$.\n",
    "\n",
    "### Problem 2 (50 points) \n",
    "\n",
    "* (10 points) Find the point in the plane $x_1+2x_2+3x_3=1$ in $\\mathbb{R}^3$ that is nearest to the point $(-1,0,1)^T$. Is this a convex problem? Hint: Convert the problem into an unconstrained problem using $x_1+2x_2+3x_3=1$.\n",
    "\n",
    "* (40 points) Implement the gradient descent and Newton's algorithm for solving the problem. Attach your codes along with a short summary including (1) the initial points tested, (2) corresponding solutions, (3) a log-linear convergence plot.\n",
    "\n",
    "### Problem 3 (10 points) \n",
    "Let $f(x)$ and $g(x)$ be two convex functions defined on the convex set $\\mathcal{X}$. \n",
    "* (5 points) Prove that $af(x)+bg(x)$ is convex for $a>0$ and $b>0$. \n",
    "* (5 points) In what conditions will $f(g(x))$ be convex?\n",
    "\n",
    "### Problem 4 (bonus 10 points)\n",
    "Show that $f({\\bf x}_1) \\geq f(\\textbf{x}_0) + \n",
    "    \\textbf{g}_{\\textbf{x}_0}^T(\\textbf{x}_1-\\textbf{x}_0)$ for a convex function $f(\\textbf{x}): \\mathcal{X} \\rightarrow \\mathbb{R}$ and for $\\textbf{x}_0$, $\\textbf{x}_1 \\in \\mathcal{X}$. "
   ],
   "metadata": {}
  },
  {
   "cell_type": "markdown",
   "source": [
    "# Design Problems\n",
    "\n",
    "### Problem 5 (20 points) \n",
    "Consider an illumination problem: There are $n$ lamps and $m$ mirrors fixed to the ground. The target reflection intensity level is $I_t$. The actual reflection intensity level on the $k$th mirror can be computed as $\\textbf{a}_k^T \\textbf{p}$, where $\\textbf{a}_k$ is given by the distances between all lamps to the mirror, and $\\textbf{p}:=[p_1,...,p_n]^T$ are the power output of the lamps. The objective is to keep the actual intensity levels as close to the target as possible by tuning the power output $\\textbf{p}$.\n",
    "\n",
    "* (5 points) Formulate this problem as an optimization problem. \n",
    "* (5 points) Is your problem convex?\n",
    "* (5 points) If we require the overall power output of any of the $n$ lamps to be less than $p^*$, will the problem have a unique solution?\n",
    "* (5 points) If we require no more than half of the lamps to be switched on, will the problem have a unique solution?"
   ],
   "metadata": {}
  },
  {
   "cell_type": "markdown",
   "source": [
    "Problem 1.0.1 \n",
    "$$f = 2x_{1}^{2} - 4x_1x_2 + 1.5x_2^2$$\n",
    "The stationary point of the function is obtained by taking the gradient and setting it to zero: \\\n",
    "$ \\rho = \\begin{bmatrix}4x_1 - 4x_2 \\\\ -4x_1 + 3x_2 + 1 \\end{bmatrix}$ = 0\\\n",
    "Solving for x_1 and x_2 gives a stationary point (1,1). \\\n",
    "Indefiniteness of the Hessian can be shown by computing its eigenvalues: \\\n",
    "\n",
    "$ H = \\begin{bmatrix} 4 & -4 \\\\ -4 & -1 \\end{bmatrix} $ \\\n",
    "$ \\begin{vmatrix} 4 - \\lambda & -4 \\\\ -4 & -1 - \\lambda \\end{vmatrix} = 0 $ \\\n",
    "$ \\lambda_{1} = 10.54, \\lambda_{2} = -4.54 $ \\\n",
    "Since the eigenvalues are both positive and negative, the Hessian is indefinite. \\\n",
    "To find the direction of the slopes awy from the saddle point (1,1): \\\n",
    "$ f = f(1,1) + \\frac{f_{x_1x_1}(1,1)(x_1 - 1)^2}{2} + \\frac{f_{x_1x_2}(1,1)(x_1 - 1)(x_2 - 1)}{2} + \\frac{f_{x_2x_2}(1,1)(x_2 - 1)^2}{2} $ \\\n",
    "$ f = 0.5 + 2(x_1 - 1)^2 - 2(x_1 - 1)(x_2 - 1) - 0.5(x_2 - 1)^2 $ \\\n",
    "\n"
   ],
   "metadata": {}
  },
  {
   "cell_type": "markdown",
   "source": [
    "Problem 2:\n",
    "Part a: (Analytical)\n",
    "The problem asks to find a point closest to (-1, 0, 1) such that it is constrained to lie on the plane $ x_1 + 2x_2 + 3x_3 = 1 $. \\\n",
    "The problem can be formulated as:\n",
    "$ \\underset{x}{\\operatorname{argmin}} L(x_0, x) \\\\\n",
    " \\text{st } x_1 + 2x_2 + 3x_3 = 1 $\n",
    "\\\n",
    "Using Lagrange multipliers on the equality constraint: \n",
    "\\\n",
    "$ \\underset{x}{\\operatorname{argmin}} L(x, x_0) = (x_{01} - x_1)^2 + (x_{02} - x_2)^2 + (x_{03} - x_3)^2 = \\lambda g(x) $ \\\n",
    "$ \\nabla L(x) = \\lambda \\nabla g(x) $ \\\n",
    "$ g(x) = c $ \\\n",
    "The constraint equation works out to be: \\\n",
    "$ \\nabla L(x) = \\begin{bmatrix}2x_1 + 2 \\\\ 2x_2 \\\\ 2x_3 - 2 \\end{bmatrix} = \\begin{bmatrix} 0 \\\\ \\lambda \\\\ 2\\lambda \\end{bmatrix} $ \\\n",
    "Together with the equation $ x_1 + 2x_2 + 3x_3 - 1 = 0 $, solving for the x's we get:\\\n",
    "$ x = \\begin{bmatrix} -1 \\\\ \\frac{-1}{-8} \\\\ \\frac{-1}{4} \\end{bmatrix} $ \\\n",
    "\n",
    "\n",
    "\n"
   ],
   "metadata": {}
  },
  {
   "cell_type": "code",
   "execution_count": null,
   "source": [],
   "outputs": [],
   "metadata": {}
  },
  {
   "cell_type": "markdown",
   "source": [
    "Problem 3: \n",
    "(i) Let f(x) and g(x) be two convex functions defined on the convex set X. "
   ],
   "metadata": {}
  }
 ],
 "metadata": {
  "kernelspec": {
   "name": "python3",
   "display_name": "Python 3.7.3 64-bit ('base': conda)"
  },
  "language_info": {
   "codemirror_mode": {
    "name": "ipython",
    "version": 3
   },
   "file_extension": ".py",
   "mimetype": "text/x-python",
   "name": "python",
   "nbconvert_exporter": "python",
   "pygments_lexer": "ipython3",
   "version": "3.7.3"
  },
  "interpreter": {
   "hash": "283a19fe1c80cc8d674e9be3676f3725f85ae6255e6112c9eba9160b54893d27"
  }
 },
 "nbformat": 4,
 "nbformat_minor": 5
}