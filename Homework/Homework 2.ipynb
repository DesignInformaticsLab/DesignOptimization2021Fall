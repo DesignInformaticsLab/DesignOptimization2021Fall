{
 "cells": [
  {
   "cell_type": "markdown",
   "metadata": {},
   "source": [
    "# Theory/Computation Problems"
   ]
  },
  {
   "cell_type": "markdown",
   "metadata": {},
   "source": [
    "### Problem 1 (20 points) \n",
    "Show that the stationary point (zero gradient) of the function\n",
    "$$\n",
    "\\begin{aligned}\n",
    "    f=2x_{1}^{2} - 4x_1 x_2+ 1.5x^{2}_{2}+ x_2\n",
    "\\end{aligned}\n",
    "$$\n",
    "is a saddle (with indefinite Hessian). Find the directions of downslopes away from the saddle. Hint: Use Taylor's expansion at the saddle point. Find directions that reduce $f$."
   ]
  },
  {
   "cell_type": "markdown",
   "metadata": {},
   "source": [
    "![HW2_1](img/HW2_1.jpg)"
   ]
  },
  {
   "cell_type": "markdown",
   "metadata": {},
   "source": [
    "### Problem 2 (50 points) \n",
    "\n",
    "* (10 points) Find the point in the plane $x_1+2x_2+3x_3=1$ in $\\mathbb{R}^3$ that is nearest to the point $(-1,0,1)^T$. Is this a convex problem? Hint: Convert the problem into an unconstrained problem using $x_1+2x_2+3x_3=1$."
   ]
  },
  {
   "cell_type": "markdown",
   "metadata": {},
   "source": [
    "![HW2_2](img/HW2_2.jpg)"
   ]
  },
  {
   "cell_type": "markdown",
   "metadata": {},
   "source": [
    "* (40 points) Implement the gradient descent and Newton's algorithm for solving the problem. Attach your codes along with a short summary including (1) the initial points tested, (2) corresponding solutions, (3) a log-linear convergence plot."
   ]
  },
  {
   "cell_type": "code",
   "execution_count": 60,
   "metadata": {
    "scrolled": false
   },
   "outputs": [
    {
     "name": "stdout",
     "output_type": "stream",
     "text": [
      "Iteration 0:[-0.4 -0.7]\n",
      "Iteration 1:[-0.18 -0.46]\n",
      "Iteration 2:[-0.214 -0.592]\n",
      "Iteration 3:[-0.1518 -0.5716]\n",
      "Iteration 4:[-0.13294 -0.60892]\n",
      "Iteration 5:[-0.101118 -0.620236]\n",
      "Iteration 6:[-0.0784174 -0.6393292]\n",
      "Iteration 7:[-0.05561118 -0.65294956]\n",
      "Iteration 8:[-0.03603585 -0.66663329]\n",
      "Iteration 9:[-0.01803795 -0.67837849]\n",
      "Iteration 10:[-0.00199188 -0.68917723]\n",
      "Iteration 11:[ 0.0125104  -0.69880487]\n",
      "Iteration 12:[ 0.02553812 -0.70750624]\n",
      "Iteration 13:[ 0.0372728  -0.71532287]\n",
      "Iteration 14:[ 0.04783012 -0.72236368]\n",
      "Iteration 15:[ 0.05733327 -0.72869807]\n",
      "Iteration 16:[ 0.06588548 -0.73439996]\n",
      "Iteration 17:[ 0.07358272 -0.73953129]\n",
      "Iteration 18:[ 0.08051013 -0.74414963]\n",
      "Iteration 19:[ 0.08674484 -0.74830608]\n",
      "Iteration 20:[ 0.09235607 -0.75204691]\n",
      "Iteration 21:[ 0.09740618 -0.75541364]\n",
      "Iteration 22:[ 0.10195127 -0.75844371]\n",
      "Iteration 23:[ 0.10604186 -0.76117076]\n",
      "Iteration 24:[ 0.10972339 -0.76362512]\n",
      "Iteration 25:[ 0.11303676 -0.76583403]\n",
      "Iteration 26:[ 0.1160188  -0.76782206]\n",
      "Iteration 27:[ 0.11870264 -0.76961128]\n",
      "Iteration 28:[ 0.12111809 -0.77122158]\n",
      "Iteration 29:[ 0.12329199 -0.77267085]\n",
      "Iteration 30:[ 0.12524851 -0.7739752 ]\n",
      "Iteration 31:[ 0.12700937 -0.7751491 ]\n",
      "Iteration 32:[ 0.12859415 -0.77620562]\n",
      "Iteration 33:[ 0.13002045 -0.77715649]\n",
      "Iteration 34:[ 0.13130412 -0.77801227]\n",
      "Iteration 35:[ 0.13245942 -0.77878247]\n",
      "Iteration 36:[ 0.13349919 -0.77947565]\n",
      "Iteration 37:[ 0.13443499 -0.78009952]\n",
      "Iteration 38:[ 0.1352772  -0.78066099]\n",
      "Iteration 39:[ 0.1360352  -0.78116632]\n",
      "Iteration 40:[ 0.13671739 -0.78162112]\n",
      "Iteration 41:[ 0.13733137 -0.78203043]\n",
      "Iteration 42:[ 0.13788394 -0.78239882]\n",
      "Iteration 43:[ 0.13838126 -0.78273037]\n",
      "Iteration 44:[ 0.13882885 -0.78302876]\n",
      "Iteration 45:[ 0.13923168 -0.78329731]\n",
      "Iteration 46:[ 0.13959423 -0.78353901]\n",
      "Iteration 47:[ 0.13992052 -0.78375654]\n",
      "Iteration 48:[ 0.14021418 -0.78395231]\n",
      "Iteration 49:[ 0.14047848 -0.78412851]\n",
      "Iteration 50:[ 0.14071634 -0.78428709]\n",
      "Iteration 51:[ 0.14093042 -0.78442981]\n",
      "Iteration 52:[ 0.1411231  -0.78455825]\n",
      "Iteration 53:[ 0.1412965  -0.78467386]\n",
      "Iteration 54:[ 0.14145256 -0.7847779 ]\n",
      "Iteration 55:[ 0.14159302 -0.78487154]\n",
      "Iteration 56:[ 0.14171943 -0.78495581]\n",
      "Iteration 57:[ 0.14183321 -0.78503166]\n",
      "Iteration 58:[ 0.1419356  -0.78509992]\n",
      "Iteration 59:[ 0.14202775 -0.78516136]\n",
      "Iteration 60:[ 0.14211069 -0.78521665]\n",
      "Iteration 61:[ 0.14218534 -0.78526642]\n",
      "Iteration 62:[ 0.14225252 -0.7853112 ]\n",
      "Iteration 63:[ 0.14231298 -0.78535151]\n",
      "Iteration 64:[ 0.1423674  -0.78538779]\n",
      "Iteration 65:[ 0.14241637 -0.78542044]\n",
      "Iteration 66:[ 0.14246045 -0.78544982]\n",
      "Final result is:[ 0.14246045 -0.78544982]\n"
     ]
    }
   ],
   "source": [
    "import numpy as np\n",
    "obj = lambda x: 5.0*x[0]**2+8.0*x[0]+12.0*x[0]*x[1]+10.0*x[1]**2+14.0*x[1]+5.0\n",
    "grad = lambda x: np.array([10.0*x[0]+8.0+12.0*x[1],12.0*x[0]+20.0*x[1]+14.0])\n",
    "eps = 1e-3\n",
    "x0 = np.array([0.0,0.0])\n",
    "k = 0\n",
    "x = x0\n",
    "err = np.linalg.norm(grad(x))\n",
    "a = 0.05\n",
    "while err >= eps:\n",
    "    x = x - a * grad(x)\n",
    "    print('Iteration ' + str(k) + ':' + str(x))\n",
    "    err = np.linalg.norm(grad(x))\n",
    "    k +=1\n",
    "print('Final result is:' + str(x))"
   ]
  },
  {
   "cell_type": "markdown",
   "metadata": {},
   "source": [
    "### Problem 3 (10 points) \n",
    "Let $f(x)$ and $g(x)$ be two convex functions defined on the convex set $\\mathcal{X}$. \n",
    "* (5 points) Prove that $af(x)+bg(x)$ is convex for $a>0$ and $b>0$. \n",
    "* (5 points) In what conditions will $f(g(x))$ be convex?"
   ]
  },
  {
   "cell_type": "code",
   "execution_count": null,
   "metadata": {},
   "outputs": [],
   "source": []
  },
  {
   "cell_type": "markdown",
   "metadata": {},
   "source": [
    "### Problem 4 (bonus 10 points)\n",
    "Show that $f({\\bf x}_1) \\geq f(\\textbf{x}_0) + \n",
    "    \\textbf{g}_{\\textbf{x}_0}^T(\\textbf{x}_1-\\textbf{x}_0)$ for a convex function $f(\\textbf{x}): \\mathcal{X} \\rightarrow \\mathbb{R}$ and for $\\textbf{x}_0$, $\\textbf{x}_1 \\in \\mathcal{X}$. "
   ]
  },
  {
   "cell_type": "code",
   "execution_count": null,
   "metadata": {},
   "outputs": [],
   "source": []
  },
  {
   "cell_type": "markdown",
   "metadata": {},
   "source": [
    "# Design Problems\n",
    "\n",
    "### Problem 5 (20 points) \n",
    "Consider an illumination problem: There are $n$ lamps and $m$ mirrors fixed to the ground. The target reflection intensity level is $I_t$. The actual reflection intensity level on the $k$th mirror can be computed as $\\textbf{a}_k^T \\textbf{p}$, where $\\textbf{a}_k$ is given by the distances between all lamps to the mirror, and $\\textbf{p}:=[p_1,...,p_n]^T$ are the power output of the lamps. The objective is to keep the actual intensity levels as close to the target as possible by tuning the power output $\\textbf{p}$.\n",
    "\n",
    "* (5 points) Formulate this problem as an optimization problem. \n",
    "* (5 points) Is your problem convex?\n",
    "* (5 points) If we require the overall power output of any of the $n$ lamps to be less than $p^*$, will the problem have a unique solution?\n",
    "* (5 points) If we require no more than half of the lamps to be switched on, will the problem have a unique solution?"
   ]
  },
  {
   "cell_type": "code",
   "execution_count": null,
   "metadata": {},
   "outputs": [],
   "source": []
  }
 ],
 "metadata": {
  "kernelspec": {
   "display_name": "Python 3",
   "language": "python",
   "name": "python3"
  },
  "language_info": {
   "codemirror_mode": {
    "name": "ipython",
    "version": 3
   },
   "file_extension": ".py",
   "mimetype": "text/x-python",
   "name": "python",
   "nbconvert_exporter": "python",
   "pygments_lexer": "ipython3",
   "version": "3.7.6"
  }
 },
 "nbformat": 4,
 "nbformat_minor": 5
}
