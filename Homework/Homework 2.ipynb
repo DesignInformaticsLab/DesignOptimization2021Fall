{
 "cells": [
  {
   "cell_type": "markdown",
   "id": "touched-logic",
   "metadata": {},
   "source": [
    "# Theory/Computation Problems\n",
    "\n",
    "### Problem 1 (20 points) \n",
    "Show that the stationary point (zero gradient) of the function\n",
    "$$\n",
    "\\begin{aligned}\n",
    "    f=2x_{1}^{2} - 4x_1 x_2+ 1.5x^{2}_{2}+ x_2\n",
    "\\end{aligned}\n",
    "$$\n",
    "is a saddle (with indefinite Hessian). Find the directions of downslopes away from the saddle. Hint: Use Taylor's expansion at the saddle point. Find directions that reduce $f$.\n",
    "\n",
    "### Problem 2 (50 points) \n",
    "\n",
    "* (10 points) Find the point in the plane $x_1+2x_2+3x_3=1$ in $\\mathbb{R}^3$ that is nearest to the point $(-1,0,1)^T$. Is this a convex problem? Hint: Convert the problem into an unconstrained problem using $x_1+2x_2+3x_3=1$.\n",
    "\n",
    "* (40 points) Implement the gradient descent and Newton's algorithm for solving the problem. Attach your codes along with a short summary including (1) the initial points tested, (2) corresponding solutions, (3) a log-linear convergence plot.\n",
    "\n",
    "### Problem 3 (10 points) \n",
    "Let $f(x)$ and $g(x)$ be two convex functions defined on the convex set $\\mathcal{X}$. \n",
    "* (5 points) Prove that $af(x)+bg(x)$ is convex for $a>0$ and $b>0$. \n",
    "* (5 points) In what conditions will $f(g(x))$ be convex?\n",
    "\n",
    "### Problem 4 (bonus 10 points)\n",
    "Show that $f({\\bf x}_1) \\geq f(\\textbf{x}_0) + \n",
    "    \\textbf{g}_{\\textbf{x}_0}^T(\\textbf{x}_1-\\textbf{x}_0)$ for a convex function $f(\\textbf{x}): \\mathcal{X} \\rightarrow \\mathbb{R}$ and for $\\textbf{x}_0$, $\\textbf{x}_1 \\in \\mathcal{X}$. "
   ]
  },
  {
   "cell_type": "markdown",
   "id": "collected-carbon",
   "metadata": {},
   "source": [
    "# Design Problems\n",
    "\n",
    "### Problem 5 (20 points) \n",
    "Consider an illumination problem: There are $n$ lamps and $m$ mirrors fixed to the ground. The target reflection intensity level is $I_t$. The actual reflection intensity level on the $k$th mirror can be computed as $\\textbf{a}_k^T \\textbf{p}$, where $\\textbf{a}_k$ is given by the distances between all lamps to the mirror, and $\\textbf{p}:=[p_1,...,p_n]^T$ are the power output of the lamps. The objective is to keep the actual intensity levels as close to the target as possible by tuning the power output $\\textbf{p}$.\n",
    "\n",
    "* (5 points) Formulate this problem as an optimization problem. \n",
    "* (5 points) Is your problem convex?\n",
    "* (5 points) If we require the overall power output of any of the $n$ lamps to be less than $p^*$, will the problem have a unique solution?\n",
    "* (5 points) If we require no more than half of the lamps to be switched on, will the problem have a unique solution?"
   ]
  },
  {
   "cell_type": "markdown",
   "id": "moderate-twins",
   "metadata": {},
   "source": [
    "# Note\n",
    "\n",
    "For this homework, you may want to attach sketches as means to explain your ideas. Here is how you can attach images.\n",
    "\n",
    "![everly1](img/everly7.jpg)"
   ]
  },
  {
   "cell_type": "markdown",
   "id": "c3a0c728",
   "metadata": {},
   "source": [
    "![HW2P1](img/HW2P1.jpg)"
   ]
  },
  {
   "cell_type": "markdown",
   "id": "ce8f5126",
   "metadata": {},
   "source": [
    "![HW2P2](img/HW2P2.jpg)"
   ]
  },
  {
   "cell_type": "code",
   "execution_count": 18,
   "id": "moving-prescription",
   "metadata": {},
   "outputs": [
    {
     "data": {
      "image/png": "[encoded data removed]",
      "text/plain": [
       "<Figure size 432x288 with 1 Axes>"
      ]
     },
     "metadata": {
      "needs_background": "light"
     },
     "output_type": "display_data"
    }
   ],
   "source": [
    "# sample code for Problem 2\n",
    "import numpy as np\n",
    "from matplotlib import pyplot as plt\n",
    "\n",
    "# x[0] corresponds to x2 and x[1] with x3\n",
    "obj = lambda x: (5*x[0]**2-8*x[0]+12*x[0]*x[1]+10*x[1]**2-14*x[1]+5)\n",
    "def grad(x):\n",
    "    return [10*x[0]-8+12*x[1], 12*x[0]+20*x[1]-14]\n",
    "\n",
    "\n",
    "eps = 1e-3  # termination criterion\n",
    "x0 = [0., 0.]  # initial guess\n",
    "k = 0  # counter\n",
    "soln = [x0]  # use an array to store the search steps\n",
    "x = soln[k]  # start with the initial guess\n",
    "\n",
    "error = np.linalg.norm(grad(x))  # compute the error. Computing the norm for 2D grads\n",
    "a = 0.01  # set a fixed step size to start with\n",
    "\n",
    "# Armijo line search\n",
    "# def line_search(x):\n",
    "#     a = 1.  # initialize step size\n",
    "#     phi = lambda a, x: obj(x) - a*0.8*grad(x)**2  # define phi as a search criterion\n",
    "#     while phi(a,x)<obj(x-a*grad(x)):  # if f(x+a*d)>phi(a) then backtrack. d is the search direction\n",
    "#         a = 0.5*a\n",
    "#     return a\n",
    "\n",
    "while error >= eps:  # keep searching while gradient norm is larger than eps\n",
    "#     a = line_search(x)\n",
    "    x = np.array(x) - a*np.array(grad(x))\n",
    "    soln.append(x)\n",
    "    error = np.linalg.norm(grad(x))\n",
    "soln  # print the search trajectory\n",
    "\n",
    "# create arrays to store iteration errors\n",
    "errc1 = np.asarray([]) #difference between x2 current and last iteration\n",
    "errc2 = np.asarray([]) #difference between x3 current and last iteration\n",
    "\n",
    "for i in range(1, np.size(soln,0)): #start at 1 to compare with 0th index\n",
    "    converge_error = np.array(soln[i]) - np.array(soln[i-1])\n",
    "    errc1 = np.append(errc1, converge_error[0]) #append the convergence error onto errc1\n",
    "    errc2 = np.append(errc2, converge_error[1]) #append the convergence error onto errc2\n",
    "    \n",
    "iterations = list(range(1,np.size(soln,0))) #array to plot iteration\n",
    "\n",
    "errc1 = np.log10(np.absolute(errc1))\n",
    "errc2 = np.log10(np.absolute(errc2))\n",
    "    \n",
    "plt.title(\"Log-Linear Convergence Plot\")\n",
    "plt.xlabel(\"Iteration #\")\n",
    "plt.ylabel(\"Error\")\n",
    "plt.plot(iterations,errc1,errc2)\n",
    "plt.legend([\"x2 error\", \"x3 error\"])\n",
    "plt.show()\n"
   ]
  },
  {
   "cell_type": "markdown",
   "id": "c55ade91",
   "metadata": {},
   "source": [
    "![HW2P3](img/HW2P3.jpg)"
   ]
  },
  {
   "cell_type": "markdown",
   "id": "bec6dd89",
   "metadata": {},
   "source": [
    "![HW2P4](img/HW2P4.jpg)"
   ]
  },
  {
   "cell_type": "code",
   "execution_count": null,
   "id": "aef1f542",
   "metadata": {},
   "outputs": [],
   "source": []
  }
 ],
 "metadata": {
  "kernelspec": {
   "display_name": "Python 3",
   "language": "python",
   "name": "python3"
  },
  "language_info": {
   "codemirror_mode": {
    "name": "ipython",
    "version": 3
   },
   "file_extension": ".py",
   "mimetype": "text/x-python",
   "name": "python",
   "nbconvert_exporter": "python",
   "pygments_lexer": "ipython3",
   "version": "3.8.8"
  }
 },
 "nbformat": 4,
 "nbformat_minor": 5
}
