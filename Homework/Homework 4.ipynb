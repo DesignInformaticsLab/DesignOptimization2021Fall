{
 "cells": [
  {
   "cell_type": "markdown",
   "id": "higher-bulgarian",
   "metadata": {},
   "source": [
    "### Problem 1 (10 Points)\n",
    "\n",
    "Sketch graphically the problem \n",
    "\n",
    "$$\n",
    "\\begin{aligned}\n",
    "\\min_{x_1,x_2} & \\quad f({\\bf x})=(x_1+1)^2+(x_2-2)^2\\\\\n",
    "{\\text{subject to }} & \\quad g_1 = x_1-2\\leq 0,{\\quad} g_3 = -x_1\\leq 0,\\\\\n",
    "& \\quad g_2 = x_2-1\\leq 0, {\\quad} g_4 = -x_2\\leq 0.\n",
    "\\end{aligned}\n",
    "$$\n",
    "\n",
    "Find the optimum graphically. Determine directions of feasible descent at the corner points of the feasible domain. Show the gradient directions of $f$ and $g_i$s at these points. Verify graphical results analytically using the KKT conditions.\n",
    "\n",
    "### Problem 2 (10 Points)\n",
    "\n",
    "Graph the problem \n",
    "\n",
    "$$\n",
    "\\begin{aligned}\n",
    "\\min_{x_1,x_2} & \\quad  f=-x_1\\\\\n",
    "{\\text{subject to }} & \\quad g_1=x_2-(1-x_1)^3\\leq 0{\\quad} {\\rm and}{\\quad} x_2\\geq 0.\n",
    "\\end{aligned}\n",
    "$$ \n",
    "\n",
    "Find the solution graphically. Then apply the optimality conditions. Can you find a solution based on the optimality conditions? Why? (From Kuhn and Tucker, 1951.)\n",
    "\n",
    "### Problem 3 (30 Points)\n",
    "\n",
    "Find a local solution to the problem \n",
    "\n",
    "$$\n",
    "\\begin{aligned}\n",
    "\\max_{x_1,x_2,x_3} & \\quad  f=x_1x_2+x_2x_3+x_1x_3\\\\\n",
    "{\\text{subject to }} & \\quad h=x_1+x_2+x_3-3=0.\n",
    "\\end{aligned}\n",
    "$$ \n",
    "\n",
    "Use two methods: reduced gradient and Lagrange multipliers.\n",
    "\n",
    "### Problem 4 (20 Points)\n",
    "\n",
    "Use reduced gradient to\tfind the value(s) of the parameter $b$ for which the point $x_1=1$, $x_2=2$ is the solution to the problem \n",
    "\n",
    "$$\n",
    "\\begin{aligned}\n",
    "\\max_{x_1,x_2} & \\quad  f=2x_{1} + bx_2\\\\\n",
    "{\\text{subject to }} & \\quad g_1 = x_{1}^{2}+ x_{2}^{2}-5\\leq 0\\\\\n",
    "& \\quad g_2= x_1- x_2-2\\leq 0.\n",
    "\\end{aligned}\n",
    "$$ \n",
    "\n",
    "### Problem 5 (30 Points)\n",
    "\n",
    "Find the solution for \n",
    "\n",
    "$$\n",
    "\\begin{aligned}\n",
    "\\min_{x_1,x_2,x_3} & \\quad  f=x_{1}^{2}+x_{2}^{2}+x_{3}^{2}\\\\\n",
    "{\\text{subject to }} & \\quad h_1 = x_{1}^{2}/4+x_{2}^{2}/5+x_{3}^{2}/25-1=0\\\\\n",
    "& \\quad h_2 = x_1+x_2-x_3= 0,\n",
    "\\end{aligned}\n",
    "$$ \n",
    "\n",
    "by implementing the generalized reduced gradient algorithm."
   ]
  },
  {
   "cell_type": "markdown",
   "id": "9aba669d",
   "metadata": {},
   "source": [
    "## Problem 1\n",
    "\n",
    "A graphical sketch of the problem is shown below.\n",
    "The optimum is at (0,1)."
   ]
  },
  {
   "cell_type": "markdown",
   "id": "53173155",
   "metadata": {},
   "source": [
    "![HW4P1sketch](img/HW4P1sketch.jpg)"
   ]
  },
  {
   "cell_type": "markdown",
   "id": "b32caacc",
   "metadata": {},
   "source": [
    "![HW4P1c](img/HW4P1c.jpg)"
   ]
  },
  {
   "cell_type": "markdown",
   "id": "7ab1d39a",
   "metadata": {},
   "source": [
    "Then using KKT conditions, it can be stated that:"
   ]
  },
  {
   "cell_type": "markdown",
   "id": "87d71a98",
   "metadata": {},
   "source": [
    "![HW4P1a](img/HW4P1a.jpg)"
   ]
  },
  {
   "cell_type": "markdown",
   "id": "3fb511f3",
   "metadata": {},
   "source": [
    "Simplifying:"
   ]
  },
  {
   "cell_type": "markdown",
   "id": "40dd1f0b",
   "metadata": {},
   "source": [
    "![HW4P1bb](img/HW4P1bb.jpg)"
   ]
  },
  {
   "cell_type": "markdown",
   "id": "e45b6e8a",
   "metadata": {},
   "source": [
    "## Problem 2\n",
    "\n",
    "The graphical solution is shown below."
   ]
  },
  {
   "cell_type": "markdown",
   "id": "12285f03",
   "metadata": {},
   "source": [
    "![HW4P2sketch](img/HW4P2sketch.jpg)"
   ]
  },
  {
   "cell_type": "markdown",
   "id": "be5b66e5",
   "metadata": {},
   "source": [
    "Applying optimality conditions:"
   ]
  },
  {
   "cell_type": "markdown",
   "id": "d9c42be0",
   "metadata": {},
   "source": [
    "![HW4P2a](img/HW4P2a.jpg)"
   ]
  },
  {
   "cell_type": "markdown",
   "id": "d1436d8e",
   "metadata": {},
   "source": [
    "The requirement for the gradient to be 0 was not satisfied. This suggests that the optimum is an irregular point since the gradients for the inequality contraints are linearly dependent at that point."
   ]
  },
  {
   "cell_type": "markdown",
   "id": "75ac0ae1",
   "metadata": {},
   "source": [
    "## Problem 3\n",
    "\n",
    "Reduced Gradient Method\n",
    "\n",
    "Assume the following:"
   ]
  },
  {
   "cell_type": "markdown",
   "id": "99a688e8",
   "metadata": {},
   "source": [
    "![HW4P3a](img/HW4P3a.jpg)"
   ]
  },
  {
   "cell_type": "markdown",
   "id": "d9317f23",
   "metadata": {},
   "source": [
    "![HW4P3b](img/HW4P3b.jpg)"
   ]
  },
  {
   "cell_type": "markdown",
   "id": "e94a1ebf",
   "metadata": {},
   "source": [
    "Simplify."
   ]
  },
  {
   "cell_type": "markdown",
   "id": "64b0c377",
   "metadata": {},
   "source": [
    "![HW4P3c](img/HW4P3c.jpg)"
   ]
  },
  {
   "cell_type": "markdown",
   "id": "fa119b67",
   "metadata": {},
   "source": [
    "Lagrange Multipliers Method"
   ]
  },
  {
   "cell_type": "markdown",
   "id": "cb4f79c6",
   "metadata": {},
   "source": [
    "![HW4P3d](img/HW4P3d.jpg)"
   ]
  },
  {
   "cell_type": "markdown",
   "id": "16463fbe",
   "metadata": {},
   "source": [
    "## Problem 4\n",
    "\n",
    "Lagrangian function:"
   ]
  },
  {
   "cell_type": "markdown",
   "id": "3def12d0",
   "metadata": {},
   "source": [
    "![HW4P4d](img/HW4P4cdjpg)"
   ]
  },
  {
   "cell_type": "markdown",
   "id": "4f86bb41",
   "metadata": {},
   "source": [
    "Calculate b:"
   ]
  },
  {
   "cell_type": "raw",
   "id": "93945a26",
   "metadata": {},
   "source": []
  },
  {
   "cell_type": "markdown",
   "id": "f90cfce1",
   "metadata": {},
   "source": [
    "![HW4P4a](img/HW4P4a.jpg)"
   ]
  },
  {
   "cell_type": "markdown",
   "id": "8e15f1bf",
   "metadata": {},
   "source": [
    "![HW4P4b](img/HW4P4b.jpg)"
   ]
  },
  {
   "cell_type": "markdown",
   "id": "aaa2923e",
   "metadata": {},
   "source": [
    "![HW4P4c](img/HW4P4c.jpg)"
   ]
  },
  {
   "cell_type": "markdown",
   "id": "750dd3bb",
   "metadata": {},
   "source": [
    "Maximum point is at b=4."
   ]
  },
  {
   "cell_type": "code",
   "execution_count": null,
   "id": "d303aaa6",
   "metadata": {},
   "outputs": [],
   "source": []
  }
 ],
 "metadata": {
  "kernelspec": {
   "display_name": "Python 3",
   "language": "python",
   "name": "python3"
  },
  "language_info": {
   "codemirror_mode": {
    "name": "ipython",
    "version": 3
   },
   "file_extension": ".py",
   "mimetype": "text/x-python",
   "name": "python",
   "nbconvert_exporter": "python",
   "pygments_lexer": "ipython3",
   "version": "3.8.8"
  },
  "pycharm": {
   "stem_cell": {
    "cell_type": "raw",
    "metadata": {
     "collapsed": false
    },
    "source": []
   }
  }
 },
 "nbformat": 4,
 "nbformat_minor": 5
}
