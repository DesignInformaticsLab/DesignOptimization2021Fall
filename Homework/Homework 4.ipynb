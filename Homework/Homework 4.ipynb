{
 "cells": [
  {
   "cell_type": "markdown",
   "id": "higher-bulgarian",
   "metadata": {},
   "source": [
    "### Problem 1 (10 Points)\n",
    "\n",
    "Sketch graphically the problem \n",
    "\n",
    "$$\n",
    "\\begin{aligned}\n",
    "\\min_{x_1,x_2} & \\quad f({\\bf x})=(x_1+1)^2+(x_2-2)^2\\\\\n",
    "{\\text{subject to }} & \\quad g_1 = x_1-2\\leq 0,{\\quad} g_3 = -x_1\\leq 0,\\\\\n",
    "& \\quad g_2 = x_2-1\\leq 0, {\\quad} g_4 = -x_2\\leq 0.\n",
    "\\end{aligned}\n",
    "$$\n",
    "\n",
    "Find the optimum graphically. Determine directions of feasible descent at the corner points of the feasible domain. Show the gradient directions of $f$ and $g_i$s at these points. Verify graphical results analytically using the KKT conditions.\n",
    "\n",
    "### Problem 2 (10 Points)\n",
    "\n",
    "Graph the problem \n",
    "\n",
    "$$\n",
    "\\begin{aligned}\n",
    "\\min_{x_1,x_2} & \\quad  f=-x_1\\\\\n",
    "{\\text{subject to }} & \\quad g_1=x_2-(1-x_1)^3\\leq 0{\\quad} {\\rm and}{\\quad} x_2\\geq 0.\n",
    "\\end{aligned}\n",
    "$$ \n",
    "\n",
    "Find the solution graphically. Then apply the optimality conditions. Can you find a solution based on the optimality conditions? Why? (From Kuhn and Tucker, 1951.)\n",
    "\n",
    "### Problem 3 (30 Points)\n",
    "\n",
    "Find a local solution to the problem \n",
    "\n",
    "$$\n",
    "\\begin{aligned}\n",
    "\\max_{x_1,x_2,x_3} & \\quad  f=x_1x_2+x_2x_3+x_1x_3\\\\\n",
    "{\\text{subject to }} & \\quad h=x_1+x_2+x_3-3=0.\n",
    "\\end{aligned}\n",
    "$$ \n",
    "\n",
    "Use two methods: reduced gradient and Lagrange multipliers.\n",
    "\n",
    "### Problem 4 (20 Points)\n",
    "\n",
    "Use reduced gradient to\tfind the value(s) of the parameter $b$ for which the point $x_1=1$, $x_2=2$ is the solution to the problem \n",
    "\n",
    "$$\n",
    "\\begin{aligned}\n",
    "\\max_{x_1,x_2} & \\quad  f=2x_{1} + bx_2\\\\\n",
    "{\\text{subject to }} & \\quad g_1 = x_{1}^{2}+ x_{2}^{2}-5\\leq 0\\\\\n",
    "& \\quad g_2= x_1- x_2-2\\leq 0.\n",
    "\\end{aligned}\n",
    "$$ \n",
    "\n",
    "### Problem 5 (30 Points)\n",
    "\n",
    "Find the solution for \n",
    "\n",
    "$$\n",
    "\\begin{aligned}\n",
    "\\min_{x_1,x_2,x_3} & \\quad  f=x_{1}^{2}+x_{2}^{2}+x_{3}^{2}\\\\\n",
    "{\\text{subject to }} & \\quad h_1 = x_{1}^{2}/4+x_{2}^{2}/5+x_{3}^{2}/25-1=0\\\\\n",
    "& \\quad h_2 = x_1+x_2-x_3= 0,\n",
    "\\end{aligned}\n",
    "$$ \n",
    "\n",
    "by implementing the generalized reduced gradient algorithm."
   ]
  }
 ],
 "metadata": {
  "kernelspec": {
   "display_name": "Python 3",
   "language": "python",
   "name": "python3"
  },
  "language_info": {
   "codemirror_mode": {
    "name": "ipython",
    "version": 3
   },
   "file_extension": ".py",
   "mimetype": "text/x-python",
   "name": "python",
   "nbconvert_exporter": "python",
   "pygments_lexer": "ipython3",
   "version": "3.7.3"
  },
  "pycharm": {
   "stem_cell": {
    "cell_type": "raw",
    "source": [],
    "metadata": {
     "collapsed": false
    }
   }
  }
 },
 "nbformat": 4,
 "nbformat_minor": 5
}