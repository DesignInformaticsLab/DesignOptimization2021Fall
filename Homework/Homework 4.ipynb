{
 "cells": [
  {
   "cell_type": "markdown",
   "id": "higher-bulgarian",
   "metadata": {},
   "source": [
    "### Problem 1 (10 Points)\n",
    "\n",
    "Sketch graphically the problem \n",
    "\n",
    "$$\n",
    "\\begin{aligned}\n",
    "\\min_{x_1,x_2} & \\quad f({\\bf x})=(x_1+1)^2+(x_2-2)^2\\\\\n",
    "{\\text{subject to }} & \\quad g_1 = x_1-2\\leq 0,{\\quad} g_3 = -x_1\\leq 0,\\\\\n",
    "& \\quad g_2 = x_2-1\\leq 0, {\\quad} g_4 = -x_2\\leq 0.\n",
    "\\end{aligned}\n",
    "$$\n",
    "\n",
    "Find the optimum graphically. Determine directions of feasible descent at the corner points of the feasible domain. Show the gradient directions of $f$ and $g_i$s at these points. Verify graphical results analytically using the KKT conditions.\n",
    "\n",
    "### Problem 2 (10 Points)\n",
    "\n",
    "Graph the problem \n",
    "\n",
    "$$\n",
    "\\begin{aligned}\n",
    "\\min_{x_1,x_2} & \\quad  f=-x_1\\\\\n",
    "{\\text{subject to }} & \\quad g_1=x_2-(1-x_1)^3\\leq 0{\\quad} {\\rm and}{\\quad} x_2\\geq 0.\n",
    "\\end{aligned}\n",
    "$$ \n",
    "\n",
    "Find the solution graphically. Then apply the optimality conditions. Can you find a solution based on the optimality conditions? Why? (From Kuhn and Tucker, 1951.)\n",
    "\n",
    "### Problem 3 (30 Points)\n",
    "\n",
    "Find a local solution to the problem \n",
    "\n",
    "$$\n",
    "\\begin{aligned}\n",
    "\\max_{x_1,x_2,x_3} & \\quad  f=x_1x_2+x_2x_3+x_1x_3\\\\\n",
    "{\\text{subject to }} & \\quad h=x_1+x_2+x_3-3=0.\n",
    "\\end{aligned}\n",
    "$$ \n",
    "\n",
    "Use two methods: reduced gradient and Lagrange multipliers.\n",
    "\n",
    "### Problem 4 (20 Points)\n",
    "\n",
    "Use reduced gradient to\tfind the value(s) of the parameter $b$ for which the point $x_1=1$, $x_2=2$ is the solution to the problem \n",
    "\n",
    "$$\n",
    "\\begin{aligned}\n",
    "\\max_{x_1,x_2} & \\quad  f=2x_{1} + bx_2\\\\\n",
    "{\\text{subject to }} & \\quad g_1 = x_{1}^{2}+ x_{2}^{2}-5\\leq 0\\\\\n",
    "& \\quad g_2= x_1- x_2-2\\leq 0.\n",
    "\\end{aligned}\n",
    "$$ \n",
    "\n",
    "### Problem 5 (30 Points)\n",
    "\n",
    "Find the solution for \n",
    "\n",
    "$$\n",
    "\\begin{aligned}\n",
    "\\min_{x_1,x_2,x_3} & \\quad  f=x_{1}^{2}+x_{2}^{2}+x_{3}^{2}\\\\\n",
    "{\\text{subject to }} & \\quad h_1 = x_{1}^{2}/4+x_{2}^{2}/5+x_{3}^{2}/25-1=0\\\\\n",
    "& \\quad h_2 = x_1+x_2-x_3= 0,\n",
    "\\end{aligned}\n",
    "$$ \n",
    "\n",
    "by implementing the generalized reduced gradient algorithm."
   ]
  },
  {
   "cell_type": "markdown",
   "id": "3030db05",
   "metadata": {},
   "source": [
    "## Problem 1\n",
    "\n",
    "A graphical sketch of the problem is shown below.\n",
    "The optimum is at (0,1)."
   ]
  },
  {
   "cell_type": "markdown",
   "id": "714b897d",
   "metadata": {},
   "source": [
    "![HW4P1sketch](img/HW4P1sketch.jpg)"
   ]
  },
  {
   "cell_type": "markdown",
   "id": "6b8307bc",
   "metadata": {},
   "source": [
    "![HW4P1c](img/HW4P1c.jpg)"
   ]
  },
  {
   "cell_type": "markdown",
   "id": "9bb6c45a",
   "metadata": {},
   "source": [
    "Then using KKT conditions, it can be stated that:"
   ]
  },
  {
   "cell_type": "markdown",
   "id": "2cf030a7",
   "metadata": {},
   "source": [
    "![HW4P1a](img/HW4P1a.jpg)"
   ]
  },
  {
   "cell_type": "markdown",
   "id": "c45a1569",
   "metadata": {},
   "source": [
    "Simplifying:"
   ]
  },
  {
   "cell_type": "markdown",
   "id": "dcb5cba0",
   "metadata": {},
   "source": [
    "![HW4P1bb](img/HW4P1bb.jpg)"
   ]
  },
  {
   "cell_type": "markdown",
   "id": "039d2a66",
   "metadata": {},
   "source": [
    "## Problem 2\n",
    "\n",
    "The graphical solution is shown below."
   ]
  },
  {
   "cell_type": "markdown",
   "id": "3749be45",
   "metadata": {},
   "source": [
    "![HW4P2sketch](img/HW4P2sketch.jpg)"
   ]
  },
  {
   "cell_type": "markdown",
   "id": "cbb8a9aa",
   "metadata": {},
   "source": [
    "Applying optimality conditions:"
   ]
  },
  {
   "cell_type": "markdown",
   "id": "97faa641",
   "metadata": {},
   "source": [
    "![HW4P2a](img/HW4P2a.jpg)"
   ]
  },
  {
   "cell_type": "markdown",
   "id": "20a87ed6",
   "metadata": {},
   "source": [
    "The requirement for the gradient to be 0 was not satisfied. This suggests that the optimum is an irregular point since the gradients for the inequality contraints are linearly dependent at that point."
   ]
  },
  {
   "cell_type": "markdown",
   "id": "896b7a6d",
   "metadata": {},
   "source": [
    "## Problem 3\n",
    "\n",
    "Reduced Gradient Method\n",
    "\n",
    "Assume the following:"
   ]
  },
  {
   "cell_type": "markdown",
   "id": "91bce747",
   "metadata": {},
   "source": [
    "![HW4P3a](img/HW4P3a.jpg)"
   ]
  },
  {
   "cell_type": "markdown",
   "id": "15d56a46",
   "metadata": {},
   "source": [
    "![HW4P3b](img/HW4P3b.jpg)"
   ]
  },
  {
   "cell_type": "markdown",
   "id": "beaf6854",
   "metadata": {},
   "source": [
    "Simplify."
   ]
  },
  {
   "cell_type": "markdown",
   "id": "ef51b541",
   "metadata": {},
   "source": [
    "![HW4P3c](img/HW4P3c.jpg)"
   ]
  },
  {
   "cell_type": "markdown",
   "id": "9c7075d3",
   "metadata": {},
   "source": [
    "Lagrange Multipliers Method"
   ]
  },
  {
   "cell_type": "markdown",
   "id": "f6436f26",
   "metadata": {},
   "source": [
    "![HW4P3d](img/HW4P3d.jpg)"
   ]
  },
  {
   "cell_type": "markdown",
   "id": "21197b7a",
   "metadata": {},
   "source": [
    "## Problem 4\n",
    "\n",
    "Lagrangian function:"
   ]
  },
  {
   "cell_type": "markdown",
   "id": "57fdf473",
   "metadata": {},
   "source": [
    "![HW4P4d](img/HW4P4cdjpg)"
   ]
  },
  {
   "cell_type": "markdown",
   "id": "1ec5affa",
   "metadata": {},
   "source": [
    "Calculate b:"
   ]
  },
  {
   "cell_type": "raw",
   "id": "9cb3e9cf",
   "metadata": {},
   "source": []
  },
  {
   "cell_type": "markdown",
   "id": "c2feebe3",
   "metadata": {},
   "source": [
    "![HW4P4a](img/HW4P4a.jpg)"
   ]
  },
  {
   "cell_type": "markdown",
   "id": "149c6f95",
   "metadata": {},
   "source": [
    "![HW4P4b](img/HW4P4b.jpg)"
   ]
  },
  {
   "cell_type": "markdown",
   "id": "0d9cbbe7",
   "metadata": {},
   "source": [
    "Simplify."
   ]
  },
  {
   "cell_type": "markdown",
   "id": "0a9b217e",
   "metadata": {},
   "source": [
    "![HW4P4c](img/HW4P4c.jpg)"
   ]
  },
  {
   "cell_type": "markdown",
   "id": "a9e28ed3",
   "metadata": {},
   "source": [
    "Maximum point is at b=4."
   ]
  },
  {
   "cell_type": "code",
   "execution_count": null,
   "id": "81a90838",
   "metadata": {},
   "outputs": [],
   "source": []
  }
 ],
 "metadata": {
  "kernelspec": {
   "display_name": "Python 3",
   "language": "python",
   "name": "python3"
  },
  "language_info": {
   "codemirror_mode": {
    "name": "ipython",
    "version": 3
   },
   "file_extension": ".py",
   "mimetype": "text/x-python",
   "name": "python",
   "nbconvert_exporter": "python",
   "pygments_lexer": "ipython3",
   "version": "3.8.8"
  },
  "pycharm": {
   "stem_cell": {
    "cell_type": "raw",
    "metadata": {
     "collapsed": false
    },
    "source": []
   }
  }
 },
 "nbformat": 4,
 "nbformat_minor": 5
}
