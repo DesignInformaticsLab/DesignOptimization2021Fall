{
  "nbformat": 4,
  "nbformat_minor": 0,
  "metadata": {
    "colab": {
      "name": "Homework_IV.ipynb",
      "provenance": [],
      "collapsed_sections": []
    },
    "kernelspec": {
      "name": "python3",
      "display_name": "Python 3"
    },
    "language_info": {
      "name": "python"
    }
  },
  "cells": [
    {
      "cell_type": "code",
      "metadata": {
        "colab": {
          "base_uri": "https://localhost:8080/",
          "height": 282
        },
        "id": "FwZ0FiIeWSab",
        "outputId": "ef537ff3-0ec7-4953-890d-e0753b004019"
      },
      "source": [
        "# Homework IV\n",
        "import numpy as np\n",
        "import sympy as sy\n",
        "\n",
        "\n",
        "# Initial guess (Must satisfy equalities)\n",
        "x = 1  # x1 State variable\n",
        "y = 1  # x2 State variable\n",
        "z = 1  # x3 Decision variable\n",
        "\n",
        "p_df_dd = np.array([2*z])\n",
        "df_ds = np.array([2*x, 2*y])\n",
        "dh_ds = np.array([[x/2, 2*y/5], [1, 1]])\n",
        "dh_dd = np.array([[2*z/25], [-1]])\n",
        "\n",
        "\"\"\"\n",
        "print(str(p_df_dd) + \"\\n\")\n",
        "print(str(df_ds) + \"\\n\")\n",
        "print(str(dh_ds) + \"\\n\")\n",
        "print(str(dh_dd) + \"\\n\")\n",
        "\"\"\"\n",
        "\n",
        "df_dd = p_df_dd - np.matmul(np.matmul(df_ds, np.linalg.inv(dh_ds)), dh_dd)\n",
        "norm = np.linalg.norm(df_dd)\n",
        "\n",
        "\n",
        "# Parameters\n",
        "k = 0  # Counter\n",
        "eps = 10^-3  # Accepted error threshold\n",
        "d = [z]  # Array to hold the state variables\n",
        "s_o = []  # Array to hold the state variable initial guesses\n",
        "s1 = [x]  # Array to hold the solved state variable 1\n",
        "s2 = [y]  # Array to hold the solved state variable 2\n",
        "alpha = 1  #Initial step size\n",
        "b = 0.5  # Backtracking the alpha\n",
        "t = 0.3  # Auxiliary function to terminate line search\n",
        "f_alpha_d = []\n",
        "f_alpha_s1 = []\n",
        "f_alpha_s2 = []\n",
        "phi_alpha_d = []\n",
        "phi_alpha_s1 = []\n",
        "phi_alpha_s2 = []\n",
        "s1_o = []\n",
        "s2_o = []\n",
        "\n",
        "\n",
        "while norm**2 > eps:\n",
        "    # Step 4.1 Line search\n",
        "    f_alpha_d.append(d[k] - alpha*df_dd)  # Decision variable portion of f(alpha)\n",
        "    f_alpha_s1.append(s1[k] + alpha*(np.transpose(np.matmul(np.matmul(np.linalg.inv(dh_ds), dh_dd), np.transpose(df_dd)))))  # State variable portion of f(alpha)\n",
        "    f_alpha_s2.append(s2[k] + alpha*(np.transpose(np.matmul(np.matmul(np.linalg.inv(dh_ds), dh_dd), np.transpose(df_dd)))))  # State variable portion of f(alpha)\n",
        "    phi_alpha_d = f_alpha_d[k] - alpha*t*(df_dd*np.transpose(df_dd))\n",
        "    phi_alpha_s1 = f_alpha_s1[k] - alpha*t*(df_dd*np.transpose(df_dd))\n",
        "    phi_alpha_s2 = f_alpha_s2[k] - alpha*t*(df_dd*np.transpose(df_dd))\n",
        "\n",
        "    while f_alpha_d[k] > phi_alpha_d and f_alpha_s1[k][0] > phi_alpha_s1[0] and f_alpha_s1[k][1] > phi_alpha_s1[1] \\\n",
        "    and f_alpha_s2[k][0] > phi_alpha_s2[0] and f_alpha_s2[k][1] > phi_alpha_s2[1]:\n",
        "        alpha = 2*b\n",
        "        print(alpha)\n",
        "        f_alpha_d.append(d[k] - alpha*df_dd)  # Decision variable portion of f(alpha)\n",
        "        f_alpha_s1.append(s1[k] + alpha*(np.transpose(np.linalg.inv(dh_ds)*dh_dd*np.transpose(df_dd))))  # State variable portion of f(alpha)\n",
        "        f_alpha_s2.append(s2[k] + alpha*(np.transpose(np.linalg.inv(dh_ds)*dh_dd*np.transpose(df_dd))))  # State variable portion of f(alpha)\n",
        "\n",
        "        phi_alpha_d = f_alpha_d[k]\n",
        "        phi_alpha_s1 = f_alpha_s1[k] - alpha*t*(df_dd*np.transpose(df_dd))\n",
        "        phi_alpha_s2 = f_alpha_s2[k] - alpha*t*(df_dd*np.transpose(df_dd))\n",
        "\n",
        "    # Step 4.2 Update decision variable (Similar to gradient descent)\n",
        "    d.append(d[k] - alpha*df_dd)\n",
        "\n",
        "    # Step 4.3 Update state variables by first calculating an initial guess of where S should be using a\n",
        "    # linear approximation (New decision variable no longer satifies constraints (h=0), so state variables need to be updated)\n",
        "    s1_o.append(s1[k] + alpha*(np.transpose(np.linalg.inv(dh_ds)*dh_dd*np.transpose(df_dd))))\n",
        "    s2_o.append(s2[k] + alpha*(np.transpose(np.linalg.inv(dh_ds)*dh_dd*np.transpose(df_dd))))\n",
        "\n",
        "    # Step 4.4 Update state variables using the initial guess (Use a solver to iteratively determine what Sk+1 should really be to make h = 0)\n",
        "    #s.append(solve...)\n",
        "\n",
        "    # Step 4.5 Calculate df_dd and update counter\n",
        "    #df_dd = solve...\n",
        "    #calculate new norm\n",
        "    k = k + 1\n"
      ],
      "execution_count": 2,
      "outputs": [
        {
          "output_type": "stream",
          "name": "stdout",
          "text": [
            "1.0\n"
          ]
        },
        {
          "output_type": "error",
          "ename": "IndexError",
          "evalue": "ignored",
          "traceback": [
            "\u001b[0;31m---------------------------------------------------------------------------\u001b[0m",
            "\u001b[0;31mIndexError\u001b[0m                                Traceback (most recent call last)",
            "\u001b[0;32m<ipython-input-2-fbb3412daee4>\u001b[0m in \u001b[0;36m<module>\u001b[0;34m()\u001b[0m\n\u001b[1;32m     48\u001b[0m     \u001b[0;31m# Step 4.1 Line search\u001b[0m\u001b[0;34m\u001b[0m\u001b[0;34m\u001b[0m\u001b[0;34m\u001b[0m\u001b[0m\n\u001b[1;32m     49\u001b[0m     \u001b[0mf_alpha_d\u001b[0m\u001b[0;34m.\u001b[0m\u001b[0mappend\u001b[0m\u001b[0;34m(\u001b[0m\u001b[0md\u001b[0m\u001b[0;34m[\u001b[0m\u001b[0mk\u001b[0m\u001b[0;34m]\u001b[0m \u001b[0;34m-\u001b[0m \u001b[0malpha\u001b[0m\u001b[0;34m*\u001b[0m\u001b[0mdf_dd\u001b[0m\u001b[0;34m)\u001b[0m  \u001b[0;31m# Decision variable portion of f(alpha)\u001b[0m\u001b[0;34m\u001b[0m\u001b[0;34m\u001b[0m\u001b[0m\n\u001b[0;32m---> 50\u001b[0;31m     \u001b[0mf_alpha_s1\u001b[0m\u001b[0;34m.\u001b[0m\u001b[0mappend\u001b[0m\u001b[0;34m(\u001b[0m\u001b[0ms1\u001b[0m\u001b[0;34m[\u001b[0m\u001b[0mk\u001b[0m\u001b[0;34m]\u001b[0m \u001b[0;34m+\u001b[0m \u001b[0malpha\u001b[0m\u001b[0;34m*\u001b[0m\u001b[0;34m(\u001b[0m\u001b[0mnp\u001b[0m\u001b[0;34m.\u001b[0m\u001b[0mtranspose\u001b[0m\u001b[0;34m(\u001b[0m\u001b[0mnp\u001b[0m\u001b[0;34m.\u001b[0m\u001b[0mmatmul\u001b[0m\u001b[0;34m(\u001b[0m\u001b[0mnp\u001b[0m\u001b[0;34m.\u001b[0m\u001b[0mmatmul\u001b[0m\u001b[0;34m(\u001b[0m\u001b[0mnp\u001b[0m\u001b[0;34m.\u001b[0m\u001b[0mlinalg\u001b[0m\u001b[0;34m.\u001b[0m\u001b[0minv\u001b[0m\u001b[0;34m(\u001b[0m\u001b[0mdh_ds\u001b[0m\u001b[0;34m)\u001b[0m\u001b[0;34m,\u001b[0m \u001b[0mdh_dd\u001b[0m\u001b[0;34m)\u001b[0m\u001b[0;34m,\u001b[0m \u001b[0mnp\u001b[0m\u001b[0;34m.\u001b[0m\u001b[0mtranspose\u001b[0m\u001b[0;34m(\u001b[0m\u001b[0mdf_dd\u001b[0m\u001b[0;34m)\u001b[0m\u001b[0;34m)\u001b[0m\u001b[0;34m)\u001b[0m\u001b[0;34m)\u001b[0m\u001b[0;34m)\u001b[0m  \u001b[0;31m# State variable portion of f(alpha)\u001b[0m\u001b[0;34m\u001b[0m\u001b[0;34m\u001b[0m\u001b[0m\n\u001b[0m\u001b[1;32m     51\u001b[0m     \u001b[0mf_alpha_s2\u001b[0m\u001b[0;34m.\u001b[0m\u001b[0mappend\u001b[0m\u001b[0;34m(\u001b[0m\u001b[0ms2\u001b[0m\u001b[0;34m[\u001b[0m\u001b[0mk\u001b[0m\u001b[0;34m]\u001b[0m \u001b[0;34m+\u001b[0m \u001b[0malpha\u001b[0m\u001b[0;34m*\u001b[0m\u001b[0;34m(\u001b[0m\u001b[0mnp\u001b[0m\u001b[0;34m.\u001b[0m\u001b[0mtranspose\u001b[0m\u001b[0;34m(\u001b[0m\u001b[0mnp\u001b[0m\u001b[0;34m.\u001b[0m\u001b[0mmatmul\u001b[0m\u001b[0;34m(\u001b[0m\u001b[0mnp\u001b[0m\u001b[0;34m.\u001b[0m\u001b[0mmatmul\u001b[0m\u001b[0;34m(\u001b[0m\u001b[0mnp\u001b[0m\u001b[0;34m.\u001b[0m\u001b[0mlinalg\u001b[0m\u001b[0;34m.\u001b[0m\u001b[0minv\u001b[0m\u001b[0;34m(\u001b[0m\u001b[0mdh_ds\u001b[0m\u001b[0;34m)\u001b[0m\u001b[0;34m,\u001b[0m \u001b[0mdh_dd\u001b[0m\u001b[0;34m)\u001b[0m\u001b[0;34m,\u001b[0m \u001b[0mnp\u001b[0m\u001b[0;34m.\u001b[0m\u001b[0mtranspose\u001b[0m\u001b[0;34m(\u001b[0m\u001b[0mdf_dd\u001b[0m\u001b[0;34m)\u001b[0m\u001b[0;34m)\u001b[0m\u001b[0;34m)\u001b[0m\u001b[0;34m)\u001b[0m\u001b[0;34m)\u001b[0m  \u001b[0;31m# State variable portion of f(alpha)\u001b[0m\u001b[0;34m\u001b[0m\u001b[0;34m\u001b[0m\u001b[0m\n\u001b[1;32m     52\u001b[0m     \u001b[0mphi_alpha_d\u001b[0m \u001b[0;34m=\u001b[0m \u001b[0mf_alpha_d\u001b[0m\u001b[0;34m[\u001b[0m\u001b[0mk\u001b[0m\u001b[0;34m]\u001b[0m \u001b[0;34m-\u001b[0m \u001b[0malpha\u001b[0m\u001b[0;34m*\u001b[0m\u001b[0mt\u001b[0m\u001b[0;34m*\u001b[0m\u001b[0;34m(\u001b[0m\u001b[0mdf_dd\u001b[0m\u001b[0;34m*\u001b[0m\u001b[0mnp\u001b[0m\u001b[0;34m.\u001b[0m\u001b[0mtranspose\u001b[0m\u001b[0;34m(\u001b[0m\u001b[0mdf_dd\u001b[0m\u001b[0;34m)\u001b[0m\u001b[0;34m)\u001b[0m\u001b[0;34m\u001b[0m\u001b[0;34m\u001b[0m\u001b[0m\n",
            "\u001b[0;31mIndexError\u001b[0m: list index out of range"
          ]
        }
      ]
    }
  ]
}